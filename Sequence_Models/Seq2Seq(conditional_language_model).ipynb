{
 "cells": [
  {
   "cell_type": "markdown",
   "id": "d06d0387-0fdc-46f1-b38d-67272d13466d",
   "metadata": {},
   "source": [
    "<h1><center>𝓢𝓮𝓺𝓾𝓮𝓷𝓬𝓮 2 𝓢𝓮𝓺𝓾𝓮𝓷𝓬𝓮💖</center></h1>"
   ]
  },
  {
   "cell_type": "markdown",
   "id": "86ac1dae-350d-4d38-aed0-e8b72e3c0231",
   "metadata": {},
   "source": [
    "Sequence two Sequence models are helpful in machine tranlsation, speech recogonition. Here we our problem is machine translation we simply use the encoder and decoder network. In encoder we will give all the input in a particular time and it will convert them into some set of numbers and the decoder helps to generate the corresponding tranlated text. It also works for image captioning. \n",
    "\n",
    "<img src=\"images/en.jpeg\" width=\"800\"/>"
   ]
  },
  {
   "cell_type": "markdown",
   "id": "c326b79b-5659-4c3d-a071-1f5f3a899a81",
   "metadata": {},
   "source": [
    "This is the basic representation of the seq2seq model. In language model the output may be random, to choose which likely the output, will use the machine translation model. The language model and machine tranlsation model having change in the architecutre (just slightly). In language model instead of giving the output the next layer, we will conserve the output, gather all and send it to the decoder. See the image! \n",
    "\n",
    "<img src=\"images/e.png\" width=\"600\"/>"
   ]
  },
  {
   "cell_type": "markdown",
   "id": "661eb42a-7549-4adb-ae50-b6c2037e8c88",
   "metadata": {},
   "source": [
    "This type of model is called **conditional model**, because it will give the probability of P(predicted sentece|input sentence) = good or bad., This conditinal probability is very usefull our aim to maximize the conditional probability for better translation. To increase the conditional probability we will use the **beam search algorithm**. "
   ]
  },
  {
   "cell_type": "markdown",
   "id": "2aebaae6-e4db-49fe-99e1-400ba80a83b1",
   "metadata": {},
   "source": [
    "<img src=\"images/brod.png\" width=\"900\"/>"
   ]
  },
  {
   "cell_type": "markdown",
   "id": "a65cc76e-7675-459f-9379-2473816d955b",
   "metadata": {},
   "source": [
    "<img src=\"images/super.png\" width=\"600\"/>"
   ]
  },
  {
   "cell_type": "markdown",
   "id": "db4bbbb9-207e-4af0-8b32-7afc6341ac46",
   "metadata": {},
   "source": [
    "## Beam Search\n",
    "Why beam search algo? In language model you will process all the data parallely so you might get the results parallely, but in language model you will pass the input to the encoder and it will change them to vector representation(in sequence) and you give to the decoder (generate the text), this is acutally a conditon based model, given that the french sentence and the preidcted sentence, our aim to maximaize the conditonal probabiltiy, to maximize the conditonal probability, we need to search the maximum value of the result of conditional probability, to search this we will use the **beam serach algorithm**. "
   ]
  },
  {
   "cell_type": "code",
   "execution_count": null,
   "id": "daa76722-d26f-43b4-ae7a-4ed97e517e0a",
   "metadata": {},
   "outputs": [],
   "source": []
  }
 ],
 "metadata": {
  "kernelspec": {
   "display_name": "Python 3 (ipykernel)",
   "language": "python",
   "name": "python3"
  },
  "language_info": {
   "codemirror_mode": {
    "name": "ipython",
    "version": 3
   },
   "file_extension": ".py",
   "mimetype": "text/x-python",
   "name": "python",
   "nbconvert_exporter": "python",
   "pygments_lexer": "ipython3",
   "version": "3.9.7"
  }
 },
 "nbformat": 4,
 "nbformat_minor": 5
}
