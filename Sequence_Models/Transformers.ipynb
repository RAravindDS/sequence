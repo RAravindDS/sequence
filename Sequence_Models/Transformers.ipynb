{
 "cells": [
  {
   "cell_type": "markdown",
   "id": "da95cb15-9dc1-4040-b5e3-0e6c65b3e18e",
   "metadata": {},
   "source": [
    "<h1><center>𝓣𝓻𝓪𝓷𝓼𝓯𝓸𝓻𝓶𝓮𝓻𝓼</center></h1>\n",
    "\n",
    "[**ReserachPaper**](https://proceedings.neurips.cc/paper/2017/file/3f5ee243547dee91fbd053c1c4a845aa-Paper.pdf)\n",
    "\n",
    "[**First Read this Then go to research paper**](http://jalammar.github.io/illustrated-transformer)"
   ]
  },
  {
   "cell_type": "code",
   "execution_count": null,
   "id": "7d2d8e68-c337-4e54-86ec-bb32ce180ba3",
   "metadata": {},
   "outputs": [],
   "source": []
  }
 ],
 "metadata": {
  "kernelspec": {
   "display_name": "Python 3 (ipykernel)",
   "language": "python",
   "name": "python3"
  },
  "language_info": {
   "codemirror_mode": {
    "name": "ipython",
    "version": 3
   },
   "file_extension": ".py",
   "mimetype": "text/x-python",
   "name": "python",
   "nbconvert_exporter": "python",
   "pygments_lexer": "ipython3",
   "version": "3.9.7"
  }
 },
 "nbformat": 4,
 "nbformat_minor": 5
}
