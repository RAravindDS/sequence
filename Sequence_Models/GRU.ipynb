{
 "cells": [
  {
   "cell_type": "markdown",
   "id": "23502074-4dad-49bf-b29e-0b77e3505708",
   "metadata": {},
   "source": [
    "<h1><center>𝓖𝓪𝓽𝓮𝓭 𝓻𝓮𝓬𝓾𝓻𝓻𝓮𝓷𝓽 𝓾𝓷𝓲𝓽 💖</center></h1>"
   ]
  },
  {
   "cell_type": "markdown",
   "id": "de5861bc-6d32-4a26-86bd-54c6b14ad71a",
   "metadata": {},
   "source": [
    "This guy will help us to tackle the **vanishing gradient problem** in rnn, (confuse? please look at rnn.ipynb). It is the modification of the rnn network and it helps to remember the long sequence. and it contains both the long and short time memory in a hidden state. \n",
    "\n",
    "A GRU tries to solve the long-term dependency problem by making use of a \"memory cell\". In theory, this \"memory cell\" is supposed to keep track of context as the network trains through the time-steps.\n",
    "\n",
    "#### Recap rnn\n",
    "<img src=\"images/recap.png\" width=\"600\"/>"
   ]
  },
  {
   "cell_type": "markdown",
   "id": "baae9931-77ef-46a9-b3c5-9a1a8e0082a4",
   "metadata": {},
   "source": [
    "The same of equation present in the rnn will be here but we will add one more extra equation or function **C** -> refers to **memory cell**(it provide a little bit of memory of the earlier inputs of the ovrerall inputs), and we will add the **gates** here (gamma u) u -> stands for update gate(ranges between 0 and 1), and one more we will introduce the c~ (It is the brother of the **C** what we have seen before, it helps to updating the **C** using his brother c~). \n",
    "\n",
    "In more specific the **C** value memorize all the sentence you have and the **gamma u** will tell when to update the **C** using his brother c~. and we will and (gamma r) r-> relevance (it will tell how relevance the ct -1  to computing the next canditate of ct."
   ]
  },
  {
   "cell_type": "markdown",
   "id": "22fecba7-1b4c-4ec1-a344-5e8eeb8980f0",
   "metadata": {},
   "source": [
    "<img src=\"images/gru.png\" width=\"600\"/>"
   ]
  },
  {
   "cell_type": "markdown",
   "id": "3467750b-2892-4880-8bbd-84e6464f1ddb",
   "metadata": {},
   "source": [
    "<img src=\"images/1st.png\" width=\"600\"/>  <img src=\"images/2nd.png\" width=\"600\"/>"
   ]
  },
  {
   "cell_type": "markdown",
   "id": "9d5f27fc-eeee-4a6f-bfbb-2545d41e74c3",
   "metadata": {},
   "source": [
    "$$ a^{\\langle t \\rangle} = \\tanh(W_{aa} a^{\\langle t-1 \\rangle} + W_{ax} x^{\\langle t \\rangle} + b_a) \\hat{y}^{\\langle t \\rangle} = softmax(W_{ya} a^{\\langle t \\rangle} + b_y)$$"
   ]
  },
  {
   "cell_type": "markdown",
   "id": "20dab66e-b28b-4c3f-ab1a-7145bef4fea8",
   "metadata": {},
   "source": [
    "which means that the memory state can be retained over a large number of time-steps. As a result, the network can remember long-term dependencies."
   ]
  },
  {
   "cell_type": "markdown",
   "id": "a6b31cd5-b420-4486-9f92-41b79724b72c",
   "metadata": {},
   "source": [
    "<img src=\"images/black.png\" width=\"600\"/>  <img src=\"images/f.png\" width=\"600\"/> "
   ]
  },
  {
   "cell_type": "markdown",
   "id": "207cfa64-cc9d-4a7e-9d8f-ac2d6164b1a9",
   "metadata": {},
   "source": []
  },
  {
   "cell_type": "code",
   "execution_count": null,
   "id": "cf725064-d8b2-4d2e-8f86-25f76e61fa00",
   "metadata": {},
   "outputs": [],
   "source": []
  }
 ],
 "metadata": {
  "kernelspec": {
   "display_name": "Python 3 (ipykernel)",
   "language": "python",
   "name": "python3"
  },
  "language_info": {
   "codemirror_mode": {
    "name": "ipython",
    "version": 3
   },
   "file_extension": ".py",
   "mimetype": "text/x-python",
   "name": "python",
   "nbconvert_exporter": "python",
   "pygments_lexer": "ipython3",
   "version": "3.9.7"
  }
 },
 "nbformat": 4,
 "nbformat_minor": 5
}
