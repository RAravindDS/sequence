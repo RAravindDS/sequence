{
 "cells": [
  {
   "cell_type": "markdown",
   "id": "481da19d-fdc1-472f-b413-4b13aa64826d",
   "metadata": {},
   "source": [
    "<h1><center>𝓛𝓸𝓷𝓰 𝓼𝓱𝓸𝓻𝓽 𝓽𝓲𝓶𝓮 𝓶𝓮𝓶𝓸𝓻𝔂💔</center></h1> "
   ]
  },
  {
   "cell_type": "markdown",
   "id": "3fb1ad9d-e943-48b8-bcf3-4cb0b655dd4e",
   "metadata": {},
   "source": [
    "## Why LSTM? \n",
    "##### The Problem of Long-Term Dependencies\n",
    "The RNN might able to connect the previous information. For example, consider a language model trying to predict the next word based on the previous ones. If we are trying to predict the last word in “the clouds are in the sky,” we don’t need any further context – it’s pretty obvious the next word is going to be sky. In such cases, where the gap between the relevant information and the place that it’s needed is small, RNNs can learn to use the past information.\n",
    "\n",
    "<img src='images/rns.png' width='600'/>\n",
    "\n",
    "\n",
    "But, there are also cases where we need more context. Consider trying to predict the last word in the text “I grew up in France… I speak fluent French.” Recent information suggests that the next word is probably the name of a language, but if we want to narrow down which language, we need the context of France, from further back. It’s entirely possible for the gap between the relevant information and the point where it is needed to become very large.\n",
    "\n",
    "Unfortunately, as that gap grows, RNNs become unable to learn to connect the information.\n",
    "\n",
    "<img src='images/bad.png' width='600'/>\n",
    "\n",
    "\n",
    "Thankfully!, lstm don't have this problem!"
   ]
  },
  {
   "cell_type": "markdown",
   "id": "c6596ca4-ab43-43c6-a3b7-970c6dfac5a6",
   "metadata": {},
   "source": [
    "It is more powerful than the GRU. In GRU we have 2 gates update gate and relevance gate but here we will use update, forget, and output gate, please see the difference equation to understand better. LSTMs are special kind of RNN usefull for learning the long-term-dependencies. \n",
    "\n",
    "[**Please visit colah for detaiiled explanation**](https://colah.github.io/posts/2015-08-Understanding-LSTMs/)\n",
    "\n",
    "\n",
    "\n",
    "\n",
    "\n",
    "\n",
    "\n",
    "\n",
    "\n",
    "\n",
    "<img src=\"images/lstm.png\" width=\"800\"/> "
   ]
  },
  {
   "cell_type": "markdown",
   "id": "807b1433-a4e0-4f33-953a-95d6d5326735",
   "metadata": {},
   "source": [
    "<img src=\"images/d.png\" width=\"1000\"/> "
   ]
  },
  {
   "cell_type": "markdown",
   "id": "0ea2b350-bc0a-4497-995e-a0cf5d0a14a9",
   "metadata": {},
   "source": [
    "<img src=\"images/bri.png\" width=\"1000\"/> "
   ]
  },
  {
   "cell_type": "markdown",
   "id": "c56a7992-6728-4855-baed-a57f857593bd",
   "metadata": {},
   "source": [
    "<img src=\"images/s.png\" width=\"10000\"/> "
   ]
  },
  {
   "cell_type": "code",
   "execution_count": null,
   "id": "a6a31fe8-7625-4d03-8cdc-952f9732e678",
   "metadata": {},
   "outputs": [],
   "source": []
  }
 ],
 "metadata": {
  "kernelspec": {
   "display_name": "Python 3 (ipykernel)",
   "language": "python",
   "name": "python3"
  },
  "language_info": {
   "codemirror_mode": {
    "name": "ipython",
    "version": 3
   },
   "file_extension": ".py",
   "mimetype": "text/x-python",
   "name": "python",
   "nbconvert_exporter": "python",
   "pygments_lexer": "ipython3",
   "version": "3.9.7"
  }
 },
 "nbformat": 4,
 "nbformat_minor": 5
}
